{
 "cells": [
  {
   "cell_type": "markdown",
   "metadata": {},
   "source": [
    "# LSTM Explained by StatQuest"
   ]
  },
  {
   "cell_type": "markdown",
   "metadata": {},
   "source": [
    "[Video Link](https://www.youtube.com/watch?v=YCzL96nL7j0&t=71s&ab_channel=StatQuestwithJoshStarmer)"
   ]
  },
  {
   "cell_type": "markdown",
   "metadata": {},
   "source": [
    "## Summary"
   ]
  },
  {
   "cell_type": "markdown",
   "metadata": {},
   "source": [
    "The video explains Long Short-Term Memory (LSTM) networks, a type of recurrent neural network that avoids the exploding/vanishing gradient problem by using separate paths for long-term and short-term memories. It breaks down how LSTM units work using sigmoid and tan-h activation functions to process input data and make predictions.\n",
    "\n",
    "### Highlights\n",
    "- [⚡️] Long Short-Term Memory (LSTM) networks avoid the exploding/vanishing gradient problem by using separate paths for long-term and short-term memories.\n",
    "- [🧠] LSTM units utilize sigmoid and tan-h activation functions to process input data and make predictions.\n",
    "- [📊] The video demonstrates how LSTM units can correctly predict future values based on past data by updating long-term and short-term memories through multiple stages.\n",
    "\n",
    "### Keywords\n",
    "- LSTM\n",
    "- Recurrent Neural Networks\n",
    "- Activation Functions"
   ]
  },
  {
   "cell_type": "markdown",
   "metadata": {},
   "source": [
    "## Main Ideas"
   ]
  },
  {
   "cell_type": "markdown",
   "metadata": {},
   "source": [
    "![separate path](./img/2024-04-10-10-10-10.png)"
   ]
  },
  {
   "cell_type": "markdown",
   "metadata": {},
   "source": [
    "The main idea behind how LSTM works is that instead of using the same feedback loop connection for events that happened long ago and events that happened recently, LSTM uses separate paths for long-term and short-term memories."
   ]
  },
  {
   "cell_type": "markdown",
   "metadata": {},
   "source": [
    "## LSTM Complicated Unit"
   ]
  },
  {
   "cell_type": "markdown",
   "metadata": {},
   "source": [
    "![LSTM Unit](./img/2024-04-10-10-13-15.png)"
   ]
  },
  {
   "cell_type": "markdown",
   "metadata": {},
   "source": [
    "LSTM use sigmoid and tan-h activation functions to control the flow of information. \n",
    "- The sigmoid function squashes the input values between 0 and 1. \n",
    "- The tan-h activation function squashes the input values between -1 and 1. "
   ]
  },
  {
   "cell_type": "markdown",
   "metadata": {},
   "source": [
    "![sigmoid function](./img/2024-04-10-10-17-44.png)"
   ]
  },
  {
   "cell_type": "markdown",
   "metadata": {},
   "source": [
    "![sigmoid function for negative](./img/2024-04-10-10-19-31.png)"
   ]
  },
  {
   "cell_type": "markdown",
   "metadata": {},
   "source": [
    "![tanh for positive](./img/2024-04-10-10-21-12.png)"
   ]
  },
  {
   "cell_type": "markdown",
   "metadata": {},
   "source": [
    "![tanh for negative](./img/2024-04-10-10-22-32.png)"
   ]
  },
  {
   "cell_type": "markdown",
   "metadata": {},
   "source": [
    "## Long-Term and Short-Term Memories"
   ]
  },
  {
   "cell_type": "markdown",
   "metadata": {},
   "source": [
    "![LSTM Unit](./img/2024-04-10-10-13-15.png)"
   ]
  },
  {
   "cell_type": "markdown",
   "metadata": {},
   "source": [
    "The green line that runs all the way across the top of the LSTM unit is called the Cell State and represents the long-term memory. \n",
    "\n",
    "There are no weights and biases associated with the cell state. The lack of weights allows the Long-Term Memories to flow through a series of unrolled units without causing the vanishing/exploding gradient problem."
   ]
  },
  {
   "cell_type": "markdown",
   "metadata": {},
   "source": [
    "![short term memories](./img/2024-04-10-10-29-59.png)"
   ]
  },
  {
   "cell_type": "markdown",
   "metadata": {},
   "source": [
    "Short-term memories are directly connected to weights that can modify them."
   ]
  },
  {
   "cell_type": "markdown",
   "metadata": {},
   "source": [
    "## One Run Through the LSTM Unit"
   ]
  },
  {
   "cell_type": "markdown",
   "metadata": {},
   "source": [
    "![One Run Through the LSTM Unit](./img/2024-04-10-10-36-51.png)"
   ]
  },
  {
   "cell_type": "markdown",
   "metadata": {},
   "source": [
    "Steps:\n",
    "\n",
    "1. "
   ]
  }
 ],
 "metadata": {
  "language_info": {
   "name": "python"
  }
 },
 "nbformat": 4,
 "nbformat_minor": 2
}
